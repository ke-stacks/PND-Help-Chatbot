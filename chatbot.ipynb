{
 "cells": [
  {
   "cell_type": "code",
   "execution_count": 1,
   "metadata": {},
   "outputs": [
    {
     "name": "stderr",
     "output_type": "stream",
     "text": [
      "2023-04-14 13:05:07.033730: I tensorflow/tsl/cuda/cudart_stub.cc:28] Could not find cuda drivers on your machine, GPU will not be used.\n",
      "2023-04-14 13:05:07.088707: I tensorflow/tsl/cuda/cudart_stub.cc:28] Could not find cuda drivers on your machine, GPU will not be used.\n",
      "2023-04-14 13:05:08.497353: W tensorflow/compiler/tf2tensorrt/utils/py_utils.cc:38] TF-TRT Warning: Could not find TensorRT\n"
     ]
    }
   ],
   "source": [
    "#Importing all necessary libraries\n",
    "import tensorflow as tf\n",
    "from tensorflow.keras.preprocessing.text import Tokenizer\n",
    "from tensorflow.keras.preprocessing.sequence import pad_sequences\n",
    "import numpy as np\n",
    "import pandas as pd\n",
    "import random\n",
    "import json\n"
   ]
  },
  {
   "cell_type": "code",
   "execution_count": null,
   "metadata": {},
   "outputs": [],
   "source": [
    "# Tokenize the input and output pairs\n",
    "tokenizer = Tokenizer()\n",
    "tokenizer.fit_on_texts(input_pairs)\n",
    "input_sequences = tokenizer.texts_to_sequences(input_pairs)\n",
    "max_input_length = max(len(seq) for seq in input_sequences)\n",
    "input_sequences = pad_sequences(input_sequences, maxlen=max_input_length, padding='post')\n",
    "output_sequences = tokenizer.texts_to_sequences(output_pairs)\n",
    "max_output_length = max(len(seq) for seq in output_sequences)\n",
    "output_sequences = pad_sequences(output_sequences, maxlen=max_output_length, padding='post')\n",
    "\n",
    "# Define the model\n",
    "input_vocab_size = len(tokenizer.word_index) + 1\n",
    "output_vocab_size = len(tokenizer.word_index) + 1\n",
    "embedding_size = 128\n",
    "units = 256\n",
    "\n",
    "encoder_inputs = tf.keras.layers.Input(shape=(max_input_length,))\n",
    "encoder_embedding = tf.keras.layers.Embedding(input_vocab_size, embedding_size)(encoder_inputs)\n",
    "encoder_lstm = tf.keras.layers.LSTM(units, return_state=True)\n",
    "encoder_outputs, state_h, state_c = encoder_lstm(encoder_embedding)\n",
    "encoder_states = [state_h, state_c]\n",
    "\n",
    "decoder_inputs = tf.keras.layers.Input(shape=(max_output_length,))\n",
    "decoder_embedding = tf.keras.layers.Embedding(output_vocab_size, embedding_size)\n",
    "decoder_lstm = tf.keras.layers.LSTM(units, return_sequences=True, return_state=True)\n",
    "decoder_outputs, _, _ = decoder_lstm(decoder_embedding(decoder_inputs), initial_state=encoder_states)\n",
    "decoder_dense = tf.keras.layers.Dense(output_vocab_size, activation='softmax')\n",
    "decoder_outputs = decoder_dense(decoder_outputs)\n",
    "\n",
    "model = tf.keras.models.Model([encoder_inputs, decoder_inputs], decoder_outputs)\n"
   ]
  },
  {
   "cell_type": "code",
   "execution_count": null,
   "metadata": {},
   "outputs": [],
   "source": [
    "# Train the model\n",
    "model.compile(optimizer='adam', loss='categorical_crossentropy')\n",
    "model.fit([input_sequences, output_sequences[:,:-1]], output_sequences[:,1:], epochs=50, batch_size=64)"
   ]
  }
 ],
 "metadata": {
  "kernelspec": {
   "display_name": "Python 3",
   "language": "python",
   "name": "python3"
  },
  "language_info": {
   "name": "python",
   "version": "3.11.2"
  },
  "orig_nbformat": 4
 },
 "nbformat": 4,
 "nbformat_minor": 2
}
